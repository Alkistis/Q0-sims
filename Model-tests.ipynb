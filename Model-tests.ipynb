{
 "cells": [
  {
   "cell_type": "code",
   "execution_count": 1,
   "metadata": {},
   "outputs": [],
   "source": [
    "import matplotlib.pyplot as plt\n",
    "import numpy as np\n",
    "import pandas as pd\n",
    "\n",
    "import scipy, scipy.interpolate, scipy.misc, scipy.integrate\n",
    "from scipy.interpolate import interp1d\n",
    "\n",
    "import time\n",
    "import sys\n",
    "sys.path.append('/Users/ap/workspace/Q0-sims')\n",
    "\n",
    "import emcee\n",
    "import corner\n",
    "\n",
    "import obs_tools as obs\n",
    "import fg_tools as fg\n",
    "import pk_tools as pk"
   ]
  },
  {
   "cell_type": "code",
   "execution_count": 2,
   "metadata": {},
   "outputs": [],
   "source": [
    "# for plotting:\n",
    "%matplotlib inline\n",
    "\n",
    "font = {\"size\": 20, \"family\": \"STIXGeneral\"}\n",
    "axislabelfontsize = \"x-large\"\n",
    "plt.rc(\"font\", **font)\n",
    "plt.rcParams[\"text.usetex\"] = False"
   ]
  },
  {
   "cell_type": "markdown",
   "metadata": {},
   "source": [
    "# Simulated data"
   ]
  },
  {
   "cell_type": "code",
   "execution_count": 3,
   "metadata": {},
   "outputs": [],
   "source": [
    "# data:\n",
    "data = pd.read_pickle('./Data/data.pkl')\n",
    "\n",
    "HI_signal = data.nobeam.HI\n",
    "HI_noise = data.nobeam.noise\n",
    "\n",
    "HI_noise_data = HI_signal + HI_noise #data.beam.HI_noise\n",
    "\n",
    "freqs = data.freqs"
   ]
  },
  {
   "cell_type": "markdown",
   "metadata": {},
   "source": [
    "#### Sims specs"
   ]
  },
  {
   "cell_type": "code",
   "execution_count": 4,
   "metadata": {},
   "outputs": [],
   "source": [
    "# Dimension of data cube:\n",
    "lx, ly, lz = 1000,1000, 924.78 #Mpc/h\n",
    "nx, ny, nz = 256, 256, 285\n",
    "# weighting and window function:\n",
    "w = W = np.ones((nx,ny,nz))\n",
    "\n",
    "# minimum and maximum k in each direction:\n",
    "kmin, kmin_perp, kmin_par = 2*np.pi/pow(lx*ly*lz, 1/3), 2*np.pi/np.sqrt(lx**2 + ly**2), 2*np.pi/lz\n",
    "kmax, kmax_par, kmax_perp = 0.4, 0.4, 0.4\n",
    "\n",
    "# set width of k bins to be 2*kmin\n",
    "dk, dk_perp, dk_par = 2*kmin, 2*kmin_perp, 2*kmin_par\n",
    "\n",
    "# number of k bins:\n",
    "nkbin = int((kmax-kmin)/dk)\n",
    "nkbin_perp = int((kmax_perp-kmin_perp)/dk_perp)\n",
    "nkbin_par = int((kmax_par-kmin_par)/dk_par)\n",
    "\n",
    "# setting array of k bin edges:\n",
    "kbins = np.arange(kmin,kmax,dk)\n",
    "kbins_perp = np.arange(kmin_perp,kmax_perp,dk_perp)\n",
    "kbins_par = np.arange(kmin_par,kmax_par,dk_par)\n",
    "\n",
    "# array of kbin centers:\n",
    "k = np.linspace(kmin+0.5*dk,kmax-0.5*dk,nkbin)\n",
    "kperp = np.linspace(kmin_perp+0.5*dk_perp,kmax_perp-0.5*dk_perp,nkbin_perp)\n",
    "kpar = np.linspace(kmin_par+0.5*dk_par,kmax_par-0.5*dk_par,nkbin_par)"
   ]
  },
  {
   "cell_type": "markdown",
   "metadata": {},
   "source": [
    "#### Calculate 3D Pk"
   ]
  },
  {
   "cell_type": "code",
   "execution_count": 5,
   "metadata": {},
   "outputs": [],
   "source": [
    "# HI+noise power spectrum:\n",
    "HI_pk = pk.getpk(HI_noise_data, w, W, nx, ny, nz, lx, ly, lz, kbins)[0]"
   ]
  },
  {
   "cell_type": "code",
   "execution_count": 6,
   "metadata": {},
   "outputs": [],
   "source": [
    "N_modes = pk.getpk(HI_noise_data, w, W, nx, ny, nz, lx, ly, lz, kbins)[1]"
   ]
  },
  {
   "cell_type": "markdown",
   "metadata": {},
   "source": [
    "#### Calculate multipoles and Q0"
   ]
  },
  {
   "cell_type": "code",
   "execution_count": 7,
   "metadata": {},
   "outputs": [],
   "source": [
    "P0 = pk.getpkmultipoles(HI_signal, w, W, nx, ny, nz, lx, ly, lz, kbins)[0]\n",
    "P2 = pk.getpkmultipoles(HI_signal, w, W, nx, ny, nz, lx, ly, lz, kbins)[1]\n",
    "P4 = pk.getpkmultipoles(HI_signal, w, W, nx, ny, nz, lx, ly, lz, kbins)[2]\n",
    "\n",
    "Q0 = P0 -(1/2.)*P2 + (3/8.)*P4\n",
    "Q2 = (3/4.)*(2*P2-5*P4)"
   ]
  },
  {
   "cell_type": "code",
   "execution_count": 8,
   "metadata": {},
   "outputs": [],
   "source": [
    "P_noise = 14.4 #mK^2\n",
    "\n",
    "sigmaP = (1/np.sqrt(2*N_modes)) * (P0 + P_noise)\n",
    "sigmaQ = 3.5*sigmaP"
   ]
  },
  {
   "cell_type": "markdown",
   "metadata": {},
   "source": [
    "## Modelling"
   ]
  },
  {
   "cell_type": "code",
   "execution_count": 9,
   "metadata": {},
   "outputs": [],
   "source": [
    "#Fiducial cosmological parameters\n",
    "#MULTIDARK has Planck15 \n",
    "\n",
    "#sigma8 = 0.83\n",
    "c=3e5\n",
    "hubble=0.678\n",
    "omegab=0.048\n",
    "om0 = 0.307\n",
    "omegac = om0 - omegab\n",
    "H00=100*hubble\n",
    "Ass=2.14e-9\n",
    "nss = 0.96\n",
    "\n",
    "gamma=0.545"
   ]
  },
  {
   "cell_type": "code",
   "execution_count": 10,
   "metadata": {},
   "outputs": [],
   "source": [
    "# BACCO z=0\n",
    "k_tab,pk_tab  = np.loadtxt(\"./Data/P_NL_bacco_z0.txt\")\n",
    "# CAMB HALOFIT z=0.4\n",
    "from pylab import genfromtxt;  \n",
    "Pk_halofit = genfromtxt('./Data/Pk_camb_halofit_z0p4.dat')\n",
    "#k_halofit = Pk_halofit[:,0]\n",
    "#Pk_halofit = Pk_halofit[:,1]"
   ]
  },
  {
   "cell_type": "code",
   "execution_count": 11,
   "metadata": {},
   "outputs": [],
   "source": [
    "Pk_bacco = scipy.interpolate.interp1d(k_tab,pk_tab,kind='cubic')"
   ]
  },
  {
   "cell_type": "code",
   "execution_count": 12,
   "metadata": {},
   "outputs": [],
   "source": [
    "THI_fid = 0.0737 #mK [confirmed by Steve]\n",
    "bHI_fid = 1.1 #[confirmed by Steve]"
   ]
  },
  {
   "cell_type": "code",
   "execution_count": 13,
   "metadata": {},
   "outputs": [],
   "source": [
    "#Spatially flat Universe\n",
    "\n",
    "#Define E(z) = H(z)/H0\n",
    "def Ez(zc):\n",
    "    return np.sqrt(1-om0+om0*pow(1+zc,3))\n",
    "def Hz(zc):\n",
    "    return Ez(zc)*H00\n",
    "#Define the comoving distances\n",
    "def drdz(zp):\n",
    "    return (c/H00)/Ez(zp)\n",
    "def rcom(zc):\n",
    "    return scipy.integrate.romberg(drdz,0,zc)\n",
    "def DA(zc):\n",
    "    return rcom(zc)/(1+zc)"
   ]
  },
  {
   "cell_type": "code",
   "execution_count": 14,
   "metadata": {},
   "outputs": [],
   "source": [
    "#Define the growth function in LCDM\n",
    "def fg(zz):\n",
    "    omz=om0*pow(1+zz,3)/pow(Ez(zz),2)\n",
    "    return pow(omz,gamma)\n",
    "\n",
    "#Get the growth factor \n",
    "def Dg_dz(zz):\n",
    "    return -fg(zz)/(1+zz)\n",
    "\n",
    "def Dgz(zc):\n",
    "    ans = scipy.integrate.romberg(Dg_dz, 0.0, zc)\n",
    "    return np.exp(ans)"
   ]
  },
  {
   "cell_type": "code",
   "execution_count": 15,
   "metadata": {},
   "outputs": [],
   "source": [
    "# To match the MultiDark simulations let's\n",
    "# work at z=0.39, and scale our initial power spectrum\n",
    "# to that redshift:\n",
    "zc = 0.39\n",
    "z,D,f      = zc,Dgz(zc),fg(zc)\n",
    "klin,plin  = np.loadtxt(\"./Data/pk.dat\",unpack=True)\n",
    "plin      *= D**2"
   ]
  },
  {
   "cell_type": "code",
   "execution_count": 16,
   "metadata": {},
   "outputs": [],
   "source": [
    "plin_interp = scipy.interpolate.interp1d(klin,plin,kind='cubic')"
   ]
  },
  {
   "cell_type": "code",
   "execution_count": 17,
   "metadata": {},
   "outputs": [],
   "source": [
    "NL_boost = np.genfromtxt('./Data/transfer_nonlinear.txt')\n",
    "\n",
    "k_boost = NL_boost[:,0]\n",
    "boost = NL_boost[:,1]\n",
    "\n",
    "NL_boost_fun = scipy.interpolate.interp1d(k_boost,boost,kind='cubic')"
   ]
  },
  {
   "cell_type": "code",
   "execution_count": 18,
   "metadata": {},
   "outputs": [
    {
     "data": {
      "image/png": "[encoded data removed]",
      "text/plain": [
       "<Figure size 720x576 with 1 Axes>"
      ]
     },
     "metadata": {
      "needs_background": "light"
     },
     "output_type": "display_data"
    }
   ],
   "source": [
    "fig = plt.figure(figsize=(10,8))\n",
    "\n",
    "plt.errorbar(k, k * Q0, yerr = k * sigmaQ, ls='',marker='o',c='black', label = r'$Q_0$')\n",
    "\n",
    "plt.plot(k, k * THI_fid**2 * bHI_fid**2 * Dgz(zc)**2 * Pk_bacco(k),ls='-',c='blue',label='bacco')\n",
    "plt.plot(k, k * THI_fid**2 * bHI_fid**2 * Dgz(zc)**2 * plin_interp(k)*NL_boost_fun(k),ls='--',c='magenta')\n",
    "plt.plot(Pk_halofit[:,0], Pk_halofit[:,0] * THI_fid**2 * bHI_fid**2 * Pk_halofit[:,1],ls=':',c='green',label='HALOFIT')\n",
    "\n",
    "#factor = ((om0 + (1+zc)**(-3) * (1-om0))/0.37)**(-0.5) * ((1+zc)/1.8)**0.5\n",
    "#OmHI_fid = 0.43\n",
    "#THI_fid = 0.29 * factor * OmHI_fid/2.2 #mK\n",
    "\n",
    "plt.xlim(-0.001,0.41)\n",
    "#plt.ylim(-0.5,6)\n",
    "\n",
    "plt.legend()\n",
    "\n",
    "plt.show()"
   ]
  },
  {
   "cell_type": "code",
   "execution_count": null,
   "metadata": {},
   "outputs": [],
   "source": []
  },
  {
   "cell_type": "code",
   "execution_count": null,
   "metadata": {},
   "outputs": [],
   "source": []
  },
  {
   "cell_type": "code",
   "execution_count": null,
   "metadata": {},
   "outputs": [],
   "source": []
  },
  {
   "cell_type": "code",
   "execution_count": null,
   "metadata": {},
   "outputs": [],
   "source": []
  },
  {
   "cell_type": "code",
   "execution_count": null,
   "metadata": {},
   "outputs": [],
   "source": []
  },
  {
   "cell_type": "code",
   "execution_count": null,
   "metadata": {},
   "outputs": [],
   "source": []
  },
  {
   "cell_type": "code",
   "execution_count": null,
   "metadata": {},
   "outputs": [],
   "source": []
  },
  {
   "cell_type": "code",
   "execution_count": null,
   "metadata": {},
   "outputs": [],
   "source": []
  },
  {
   "cell_type": "code",
   "execution_count": null,
   "metadata": {},
   "outputs": [],
   "source": []
  },
  {
   "cell_type": "code",
   "execution_count": null,
   "metadata": {},
   "outputs": [],
   "source": []
  },
  {
   "cell_type": "code",
   "execution_count": null,
   "metadata": {},
   "outputs": [],
   "source": []
  },
  {
   "cell_type": "code",
   "execution_count": null,
   "metadata": {},
   "outputs": [],
   "source": []
  }
 ],
 "metadata": {
  "kernelspec": {
   "display_name": "Python 3",
   "language": "python",
   "name": "python3"
  },
  "language_info": {
   "codemirror_mode": {
    "name": "ipython",
    "version": 3
   },
   "file_extension": ".py",
   "mimetype": "text/x-python",
   "name": "python",
   "nbconvert_exporter": "python",
   "pygments_lexer": "ipython3",
   "version": "3.7.8"
  }
 },
 "nbformat": 4,
 "nbformat_minor": 4
}
