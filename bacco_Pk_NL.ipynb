{
 "cells": [
  {
   "cell_type": "code",
   "execution_count": 54,
   "id": "21f4978f",
   "metadata": {},
   "outputs": [
    {
     "name": "stdout",
     "output_type": "stream",
     "text": [
      "Loading sigma8 emulator...\n",
      "Sigma8 emulator loaded in memory.\n",
      "Loading linear emulator...\n",
      "Linear emulator loaded in memory.\n",
      "Loading smeared bao emulator...\n",
      "Smeared bao emulator loaded in memory.\n",
      "Loading non-linear emulator...\n",
      "Nonlinear emulator loaded in memory.\n",
      "Loading Baryonic Emulator...\n",
      "Baryonic Emulator loaded in memory.\n"
     ]
    }
   ],
   "source": [
    "import numpy as np\n",
    "k = np.logspace(-2, np.log10(5), num=100)\n",
    "\n",
    "import baccoemu\n",
    "emulator = baccoemu.Matter_powerspectrum()"
   ]
  },
  {
   "cell_type": "code",
   "execution_count": 55,
   "id": "5ee63d85",
   "metadata": {},
   "outputs": [],
   "source": [
    "params = {\n",
    "    'omega_cold'    :  0.31,\n",
    "    'sigma8_cold'   :  0.83, # if A_s is not specified\n",
    "    'omega_baryon'  :  0.05,\n",
    "    'ns'            :  0.96,\n",
    "    'hubble'        :  0.678,\n",
    "    'neutrino_mass' :  0.0,\n",
    "    'w0'            : -1.0,\n",
    "    'wa'            :  0.0,\n",
    "    'expfactor'     :  1.\n",
    "}"
   ]
  },
  {
   "cell_type": "code",
   "execution_count": 56,
   "id": "886c1c2b",
   "metadata": {},
   "outputs": [],
   "source": [
    "k, pk_nl_total = emulator.get_nonlinear_pk(k=k, cold=False, **params)"
   ]
  },
  {
   "cell_type": "code",
   "execution_count": 57,
   "id": "f390d36a",
   "metadata": {},
   "outputs": [],
   "source": [
    "np.savetxt('./Data/P_NL_bacco_z0.txt',(k,pk_nl_total))"
   ]
  },
  {
   "cell_type": "code",
   "execution_count": 58,
   "id": "9b11458a",
   "metadata": {},
   "outputs": [],
   "source": [
    "k_tab,pk_tab  = np.loadtxt(\"./Data/P_NL_bacco_z0.txt\")"
   ]
  },
  {
   "cell_type": "code",
   "execution_count": 60,
   "id": "87b20102",
   "metadata": {},
   "outputs": [],
   "source": [
    "#pk_tab"
   ]
  },
  {
   "cell_type": "code",
   "execution_count": null,
   "id": "600e220c",
   "metadata": {},
   "outputs": [],
   "source": []
  },
  {
   "cell_type": "code",
   "execution_count": null,
   "id": "9e1961e5",
   "metadata": {},
   "outputs": [],
   "source": []
  },
  {
   "cell_type": "code",
   "execution_count": null,
   "id": "ba1d3cc2",
   "metadata": {},
   "outputs": [],
   "source": []
  },
  {
   "cell_type": "code",
   "execution_count": null,
   "id": "93d8b7e9",
   "metadata": {},
   "outputs": [],
   "source": []
  }
 ],
 "metadata": {
  "kernelspec": {
   "display_name": "Python 3 (ipykernel)",
   "language": "python",
   "name": "python3"
  },
  "language_info": {
   "codemirror_mode": {
    "name": "ipython",
    "version": 3
   },
   "file_extension": ".py",
   "mimetype": "text/x-python",
   "name": "python",
   "nbconvert_exporter": "python",
   "pygments_lexer": "ipython3",
   "version": "3.9.12"
  }
 },
 "nbformat": 4,
 "nbformat_minor": 5
}
