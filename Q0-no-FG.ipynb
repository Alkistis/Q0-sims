{
 "cells": [
  {
   "cell_type": "code",
   "execution_count": 1,
   "metadata": {},
   "outputs": [],
   "source": [
    "import matplotlib.pyplot as plt\n",
    "import numpy as np\n",
    "import pandas as pd\n",
    "\n",
    "import scipy, scipy.interpolate, scipy.misc, scipy.integrate\n",
    "from scipy.interpolate import interp1d\n",
    "\n",
    "import time\n",
    "import sys\n",
    "sys.path.append('/Users/ap/workspace/Q0-sims')\n",
    "\n",
    "import emcee\n",
    "import corner\n",
    "\n",
    "import obs_tools as obs\n",
    "import fg_tools as fg\n",
    "import pk_tools as pk"
   ]
  },
  {
   "cell_type": "code",
   "execution_count": 2,
   "metadata": {},
   "outputs": [],
   "source": [
    "# for plotting:\n",
    "%matplotlib inline\n",
    "\n",
    "font = {\"size\": 20, \"family\": \"STIXGeneral\"}\n",
    "axislabelfontsize = \"x-large\"\n",
    "plt.rc(\"font\", **font)\n",
    "plt.rcParams[\"text.usetex\"] = False"
   ]
  },
  {
   "cell_type": "markdown",
   "metadata": {},
   "source": [
    "# Running PCA analysis "
   ]
  },
  {
   "cell_type": "code",
   "execution_count": 3,
   "metadata": {},
   "outputs": [],
   "source": [
    "# data:\n",
    "data = pd.read_pickle('./Data/data.pkl')\n",
    "\n",
    "HI_signal = data.nobeam.HI\n",
    "HI_noise = data.nobeam.noise\n",
    "\n",
    "HI_fg_smooth = data.beam.foregrounds.sync + data.beam.foregrounds.psource + data.beam.foregrounds.free\n",
    "HI_fg_pol_leak = data.nobeam.foregrounds.pleak\n",
    "\n",
    "FG_HI_noise_data = HI_signal+HI_noise+HI_fg_smooth+HI_fg_pol_leak #data.beam.FGwpol_HI_noise\n",
    "HI_noise_data = HI_signal + HI_noise #data.beam.HI_noise\n",
    "\n",
    "HI_noise_data_beam = data.beam.HI_noise\n",
    "\n",
    "freqs = data.freqs"
   ]
  },
  {
   "cell_type": "markdown",
   "metadata": {},
   "source": [
    "#### Sims specs"
   ]
  },
  {
   "cell_type": "code",
   "execution_count": 4,
   "metadata": {},
   "outputs": [],
   "source": [
    "# Dimension of data cube:\n",
    "lx, ly, lz = 1000,1000, 924.78 #Mpc/h\n",
    "nx, ny, nz = 256, 256, 285\n",
    "# weighting and window function:\n",
    "w = W = np.ones((nx,ny,nz))\n",
    "\n",
    "# minimum and maximum k in each direction:\n",
    "kmin, kmin_perp, kmin_par = 2*np.pi/pow(lx*ly*lz, 1/3), 2*np.pi/np.sqrt(lx**2 + ly**2), 2*np.pi/lz\n",
    "kmax, kmax_par, kmax_perp = 0.4, 0.4, 0.4\n",
    "\n",
    "# set width of k bins to be 2*kmin\n",
    "dk, dk_perp, dk_par = 2*kmin, 2*kmin_perp, 2*kmin_par\n",
    "\n",
    "# number of k bins:\n",
    "nkbin = int((kmax-kmin)/dk)\n",
    "nkbin_perp = int((kmax_perp-kmin_perp)/dk_perp)\n",
    "nkbin_par = int((kmax_par-kmin_par)/dk_par)\n",
    "\n",
    "# setting array of k bin edges:\n",
    "kbins = np.arange(kmin,kmax,dk)\n",
    "kbins_perp = np.arange(kmin_perp,kmax_perp,dk_perp)\n",
    "kbins_par = np.arange(kmin_par,kmax_par,dk_par)\n",
    "\n",
    "# array of kbin centers:\n",
    "k = np.linspace(kmin+0.5*dk,kmax-0.5*dk,nkbin)\n",
    "kperp = np.linspace(kmin_perp+0.5*dk_perp,kmax_perp-0.5*dk_perp,nkbin_perp)\n",
    "kpar = np.linspace(kmin_par+0.5*dk_par,kmax_par-0.5*dk_par,nkbin_par)"
   ]
  },
  {
   "cell_type": "markdown",
   "metadata": {},
   "source": [
    "#### Calculate 3D Pk"
   ]
  },
  {
   "cell_type": "code",
   "execution_count": 5,
   "metadata": {},
   "outputs": [],
   "source": [
    "# HI+noise power spectrum:\n",
    "HI_pk = pk.getpk(HI_noise_data, w, W, nx, ny, nz, lx, ly, lz, kbins)[0]\n",
    "\n",
    "# HI+noise power spectrum with beam:\n",
    "#HI_pk_beam = pk.getpk(HI_noise_data_beam, w, W, nx, ny, nz, lx, ly, lz, kbins)[0]\n",
    "\n",
    "# residual power spectrum from PCA:\n",
    "# PCA1_pk = pk.getpk(pca_res_1, w, W, nx, ny, nz, lx, ly, lz, kbins)[0]\n",
    "# PCA2_pk = pk.getpk(pca_res_2, w, W, nx, ny, nz, lx, ly, lz, kbins)[0]\n",
    "# PCA3_pk = pk.getpk(pca_res_3, w, W, nx, ny, nz, lx, ly, lz, kbins)[0]\n",
    "# PCA4_pk = pk.getpk(pca_res_4, w, W, nx, ny, nz, lx, ly, lz, kbins)[0]\n",
    "#PCA5_pk = pk.getpk(pca_res_5, w, W, nx, ny, nz, lx, ly, lz, kbins)[0]\n",
    "#PCA6_pk = pk.getpk(pca_res_6, w, W, nx, ny, nz, lx, ly, lz, kbins)[0]\n",
    "#PCA7_pk = pk.getpk(pca_res_7, w, W, nx, ny, nz, lx, ly, lz, kbins)[0]\n",
    "#PCA10_pk = pk.getpk(pca_res_10, w, W, nx, ny, nz, lx, ly, lz, kbins)[0]"
   ]
  },
  {
   "cell_type": "code",
   "execution_count": 6,
   "metadata": {},
   "outputs": [],
   "source": [
    "# HI signal power spectrum:\n",
    "HI_signal_pk = pk.getpk(HI_signal, w, W, nx, ny, nz, lx, ly, lz, kbins)[0]\n",
    "\n",
    "# HI noise power spectrum::\n",
    "HI_noise_pk = pk.getpk(HI_noise, w, W, nx, ny, nz, lx, ly, lz, kbins)[0]"
   ]
  },
  {
   "cell_type": "code",
   "execution_count": 7,
   "metadata": {},
   "outputs": [],
   "source": [
    "N_modes = pk.getpk(HI_signal, w, W, nx, ny, nz, lx, ly, lz, kbins)[1]"
   ]
  },
  {
   "cell_type": "markdown",
   "metadata": {},
   "source": [
    "#### Calculate multipoles and Q0"
   ]
  },
  {
   "cell_type": "code",
   "execution_count": 8,
   "metadata": {},
   "outputs": [],
   "source": [
    "P0 = pk.getpkmultipoles(HI_signal, w, W, nx, ny, nz, lx, ly, lz, kbins)[0]\n",
    "P2 = pk.getpkmultipoles(HI_signal, w, W, nx, ny, nz, lx, ly, lz, kbins)[1]\n",
    "P4 = pk.getpkmultipoles(HI_signal, w, W, nx, ny, nz, lx, ly, lz, kbins)[2]\n",
    "\n",
    "Q0 = P0 -(1/2.)*P2 + (3/8.)*P4\n",
    "Q2 = (3/4.)*(2*P2-5*P4)"
   ]
  },
  {
   "cell_type": "code",
   "execution_count": 9,
   "metadata": {},
   "outputs": [
    {
     "name": "stdout",
     "output_type": "stream",
     "text": [
      "14.379769470029425\n"
     ]
    }
   ],
   "source": [
    "P_noise = 100*HI_noise_pk[10] #mK^2\n",
    "print(P_noise)\n",
    "\n",
    "sigmaP = (1/np.sqrt(2*N_modes)) * (P0 + P_noise)\n",
    "sigmaQ = 3.5*sigmaP"
   ]
  },
  {
   "cell_type": "markdown",
   "metadata": {},
   "source": [
    "## Modelling"
   ]
  },
  {
   "cell_type": "code",
   "execution_count": 10,
   "metadata": {},
   "outputs": [],
   "source": [
    "#Fiducial cosmological parameters\n",
    "#MULTIDARK has Planck15 \n",
    "\n",
    "#sigma8 = 0.83\n",
    "c=3e5\n",
    "hubble=0.678\n",
    "omegab=0.048\n",
    "om0 = 0.307\n",
    "omegac = om0 - omegab\n",
    "H00=100*hubble\n",
    "Ass=2.14e-9\n",
    "nss = 0.96\n",
    "\n",
    "gamma=0.545"
   ]
  },
  {
   "cell_type": "code",
   "execution_count": 12,
   "metadata": {},
   "outputs": [],
   "source": [
    "# BACCO z=0\n",
    "k_tab,pk_tab  = np.loadtxt(\"./Data/P_NL_bacco_z0.txt\")"
   ]
  },
  {
   "cell_type": "code",
   "execution_count": 13,
   "metadata": {},
   "outputs": [],
   "source": [
    "Pk_bacco = scipy.interpolate.interp1d(k_tab,pk_tab,kind='cubic')"
   ]
  },
  {
   "cell_type": "markdown",
   "metadata": {},
   "source": [
    "## Run MCMC"
   ]
  },
  {
   "cell_type": "code",
   "execution_count": 14,
   "metadata": {},
   "outputs": [
    {
     "data": {
      "text/plain": [
       "array([0.01289824, 0.02602419, 0.03915014, 0.0522761 , 0.06540205,\n",
       "       0.078528  , 0.09165396, 0.10477991, 0.11790586, 0.13103182,\n",
       "       0.14415777, 0.15728372, 0.17040968, 0.18353563, 0.19666158,\n",
       "       0.20978754, 0.22291349, 0.23603944, 0.2491654 , 0.26229135,\n",
       "       0.2754173 , 0.28854326, 0.30166921, 0.31479516, 0.32792111,\n",
       "       0.34104707, 0.35417302, 0.36729897, 0.38042493, 0.39355088])"
      ]
     },
     "execution_count": 14,
     "metadata": {},
     "output_type": "execute_result"
    }
   ],
   "source": [
    "#MCMC data\n",
    "k_index=0\n",
    "data_mcmc = (k[k_index:], Q0[k_index:], sigmaQ[k_index:])\n",
    "\n",
    "data_mcmc[0]"
   ]
  },
  {
   "cell_type": "code",
   "execution_count": 15,
   "metadata": {},
   "outputs": [],
   "source": [
    "def lnlike(theta, x, y, yerr):    \n",
    "    return -0.5 * np.sum(((y - model_ph(theta, x))/yerr) ** 2)"
   ]
  },
  {
   "cell_type": "code",
   "execution_count": 16,
   "metadata": {},
   "outputs": [],
   "source": [
    "def lnprior(theta):\n",
    "    \n",
    "    THI,b1,b2,c1,c2 = theta\n",
    "    \n",
    "    if 0. < THI < 0.5 and 0. < b1 < 4.:\n",
    "        return 0.0\n",
    "    #if -10. < b1 < 10.:\n",
    "    #    return 0.0\n",
    "    #if -10. < b2 < 10.:\n",
    "    #    return 0.0\n",
    "    #if -100. < PN < 100.:\n",
    "    #    return 0.0\n",
    "    \n",
    "    return -np.inf"
   ]
  },
  {
   "cell_type": "code",
   "execution_count": 17,
   "metadata": {},
   "outputs": [],
   "source": [
    "def lnprob(theta, x, y, yerr):\n",
    "    lp = lnprior(theta)\n",
    "    if not np.isfinite(lp):\n",
    "        return -np.inf\n",
    "    return lp + lnlike(theta, x, y, yerr)"
   ]
  },
  {
   "cell_type": "code",
   "execution_count": 18,
   "metadata": {},
   "outputs": [
    {
     "data": {
      "text/plain": [
       "'\\ndef model(theta,k):\\n    \\n    kv, pk = cleft.combine_bias_terms_pk(*theta)\\n    pk_interp = interp1d(kv,pk)\\n    \\n    res = THI_fid**2 * pk_interp(k)\\n    \\n    return res\\n'"
      ]
     },
     "execution_count": 18,
     "metadata": {},
     "output_type": "execute_result"
    }
   ],
   "source": [
    "'''\n",
    "def model(theta,k):\n",
    "    \n",
    "    kv, pk = cleft.combine_bias_terms_pk(*theta)\n",
    "    pk_interp = interp1d(kv,pk)\n",
    "    \n",
    "    res = THI_fid**2 * pk_interp(k)\n",
    "    \n",
    "    return res\n",
    "'''"
   ]
  },
  {
   "cell_type": "code",
   "execution_count": 25,
   "metadata": {},
   "outputs": [],
   "source": [
    "kM = 0.7 \n",
    "\n",
    "#model from https://arxiv.org/pdf/1910.07097.pdf\n",
    "def model_ph(theta,k):\n",
    "    \n",
    "    THI,b1,b2,c1,c2 = theta\n",
    "    res = THI**2 * (b1 + b2*k**2)**2 * Pk_bacco(k) + P_noise*(c1+c2*(k/kM)**2)\n",
    "    \n",
    "    return res"
   ]
  },
  {
   "cell_type": "code",
   "execution_count": 26,
   "metadata": {},
   "outputs": [
    {
     "data": {
      "text/plain": [
       "array([ 1.37253944e-04, -4.05314301e+02,  3.38257904e+03,  3.60673991e-01,\n",
       "       -6.47202851e-01])"
      ]
     },
     "execution_count": 26,
     "metadata": {},
     "output_type": "execute_result"
    }
   ],
   "source": [
    "from scipy.optimize import minimize\n",
    "\n",
    "THI_fid = 0.0737 #mK [confirmed by Steve]\n",
    "bHI_fid = 1.1 #[confirmed by Steve]\n",
    "\n",
    "#THI,b1,b2,c1,c2\n",
    "initial_tmp = [THI_fid, bHI_fid, 1.0, 1.,1.] \n",
    "nll = lambda *args: -lnlike(*args)\n",
    "soln = minimize(nll, initial_tmp, args=data_mcmc)\n",
    "\n",
    "soln.x\n",
    "#print(THI_fid)"
   ]
  },
  {
   "cell_type": "code",
   "execution_count": 27,
   "metadata": {},
   "outputs": [],
   "source": [
    "nburn = 50\n",
    "niter = 1000+nburn\n",
    "nwalkers = 200"
   ]
  },
  {
   "cell_type": "code",
   "execution_count": 28,
   "metadata": {},
   "outputs": [],
   "source": [
    "initial = initial_tmp #soln.x \n",
    "\n",
    "ndim = len(initial)\n",
    "p0 = [np.array(initial) + 1e-2 * np.random.randn(ndim) for i in range(nwalkers)]"
   ]
  },
  {
   "cell_type": "code",
   "execution_count": null,
   "metadata": {},
   "outputs": [],
   "source": [
    "sampler = emcee.EnsembleSampler(nwalkers, ndim, lnprob, args=data_mcmc)\n",
    "\n",
    "print(\"Running production...\")\n",
    "pos, prob, state = sampler.run_mcmc(p0, niter,)"
   ]
  },
  {
   "cell_type": "code",
   "execution_count": null,
   "metadata": {},
   "outputs": [],
   "source": [
    "samples = sampler.chain[:, nburn:, :].reshape((-1, ndim))\n",
    "len(samples)"
   ]
  },
  {
   "cell_type": "code",
   "execution_count": null,
   "metadata": {},
   "outputs": [],
   "source": [
    "fig = corner.corner(samples,plot_datapoints=False, bins=100,\n",
    "                    labels=[\"$T_{HI}$\", \"$b_1$\",\"$b_2$\",\"$c_1$\",\"$c_2$\"],\n",
    "                    truths=[THI_fid,bHI_fid,1000.,1000.,1000.,], \n",
    "                    show_titles=True, smooth=5., smooth1d=5., color='blue') "
   ]
  },
  {
   "cell_type": "code",
   "execution_count": null,
   "metadata": {},
   "outputs": [],
   "source": []
  },
  {
   "cell_type": "code",
   "execution_count": null,
   "metadata": {},
   "outputs": [],
   "source": []
  },
  {
   "cell_type": "code",
   "execution_count": null,
   "metadata": {},
   "outputs": [],
   "source": []
  },
  {
   "cell_type": "code",
   "execution_count": null,
   "metadata": {},
   "outputs": [],
   "source": []
  },
  {
   "cell_type": "code",
   "execution_count": null,
   "metadata": {},
   "outputs": [],
   "source": []
  },
  {
   "cell_type": "code",
   "execution_count": null,
   "metadata": {},
   "outputs": [],
   "source": []
  },
  {
   "cell_type": "code",
   "execution_count": null,
   "metadata": {},
   "outputs": [],
   "source": []
  },
  {
   "cell_type": "code",
   "execution_count": null,
   "metadata": {},
   "outputs": [],
   "source": []
  },
  {
   "cell_type": "code",
   "execution_count": null,
   "metadata": {},
   "outputs": [],
   "source": [
    "'''\n",
    "fig = plt.figure(figsize=(10,8))\n",
    "\n",
    "plt.plot(k, k*Q2, ls='--', marker='', c='blue', label = r'Q2 true')\n",
    "\n",
    "plt.plot(k, k*PCA4_Q2, ls='', marker='v', c='red', label = r'Q2 with PCA4')\n",
    "\n",
    "plt.xlabel('$k$ [$h$/Mpc]', fontsize=20)\n",
    "plt.ylabel('$k P(k)$', fontsize=20)\n",
    "\n",
    "plt.ylim(-15,10)\n",
    "\n",
    "plt.legend()\n",
    "\n",
    "plt.show()\n",
    "\n",
    "'''"
   ]
  },
  {
   "cell_type": "code",
   "execution_count": null,
   "metadata": {},
   "outputs": [],
   "source": [
    "fig = plt.figure(figsize=(10,8))\n",
    "#plt.plot(k, k * HI_signal_pk, ls='', marker='o', markersize=4, c='blue', label = r'HI signal only')\n",
    "\n",
    "plt.errorbar(k, HI_signal_pk, yerr = k * sigmaP, ls='',marker='o',c='black', label = r'$P^{HI}_0$')\n",
    "plt.plot(k, 100*HI_noise_pk, ls='', marker='v', c='red', label = r'$P_N$')\n",
    "\n",
    "#plt.errorbar(k, k * Q0, yerr = k * sigmaQ, ls='', marker='x', c='blue', label = r'$Q^{HI}_0$')\n",
    "\n",
    "\n",
    "\n",
    "plt.xlabel('$k$ [$h$/Mpc]', fontsize=20)\n",
    "plt.ylabel('$k P(k)$', fontsize=20)\n",
    "\n",
    "plt.xscale('log')\n",
    "plt.yscale('log')\n",
    "\n",
    "plt.legend()\n",
    "\n",
    "plt.show()"
   ]
  },
  {
   "cell_type": "code",
   "execution_count": null,
   "metadata": {},
   "outputs": [],
   "source": []
  },
  {
   "cell_type": "code",
   "execution_count": null,
   "metadata": {},
   "outputs": [],
   "source": []
  },
  {
   "cell_type": "code",
   "execution_count": 19,
   "metadata": {},
   "outputs": [],
   "source": [
    "#Spatially flat Universe\n",
    "\n",
    "#Define E(z) = H(z)/H0\n",
    "def Ez(zc):\n",
    "    return np.sqrt(1-om0+om0*pow(1+zc,3))\n",
    "def Hz(zc):\n",
    "    return Ez(zc)*H00\n",
    "#Define the comoving distances\n",
    "def drdz(zp):\n",
    "    return (c/H00)/Ez(zp)\n",
    "def rcom(zc):\n",
    "    return scipy.integrate.romberg(drdz,0,zc)\n",
    "def DA(zc):\n",
    "    return rcom(zc)/(1+zc)"
   ]
  },
  {
   "cell_type": "code",
   "execution_count": 20,
   "metadata": {},
   "outputs": [],
   "source": [
    "#Define the growth function in LCDM\n",
    "def fg(zz):\n",
    "    omz=om0*pow(1+zz,3)/pow(Ez(zz),2)\n",
    "    return pow(omz,gamma)\n",
    "\n",
    "#Get the growth factor \n",
    "def Dg_dz(zz):\n",
    "    return -fg(zz)/(1+zz)\n",
    "\n",
    "def Dgz(zc):\n",
    "    ans = scipy.integrate.romberg(Dg_dz, 0.0, zc)\n",
    "    return np.exp(ans)"
   ]
  },
  {
   "cell_type": "code",
   "execution_count": 21,
   "metadata": {},
   "outputs": [],
   "source": [
    "# To match the MultiDark simulations let's\n",
    "# work at z=0.39, and scale our initial power spectrum\n",
    "# to that redshift:\n",
    "zc = 0.39\n",
    "z,D,f      = zc,Dgz(zc),fg(zc)\n",
    "klin,plin  = np.loadtxt(\"./Data/pk.dat\",unpack=True)\n",
    "plin      *= D**2"
   ]
  },
  {
   "cell_type": "code",
   "execution_count": 22,
   "metadata": {},
   "outputs": [],
   "source": [
    "plin_interp = scipy.interpolate.interp1d(klin,plin,kind='cubic')"
   ]
  },
  {
   "cell_type": "code",
   "execution_count": 23,
   "metadata": {},
   "outputs": [],
   "source": [
    "NL_boost = np.genfromtxt('./Data/transfer_nonlinear.txt')\n",
    "\n",
    "k_boost = NL_boost[:,0]\n",
    "boost = NL_boost[:,1]\n",
    "\n",
    "NL_boost_fun = scipy.interpolate.interp1d(k_boost,boost,kind='cubic')"
   ]
  },
  {
   "cell_type": "code",
   "execution_count": 34,
   "metadata": {},
   "outputs": [
    {
     "data": {
      "image/png": "[encoded data removed]",
      "text/plain": [
       "<Figure size 720x576 with 1 Axes>"
      ]
     },
     "metadata": {
      "needs_background": "light"
     },
     "output_type": "display_data"
    }
   ],
   "source": [
    "fig = plt.figure(figsize=(10,8))\n",
    "\n",
    "plt.errorbar(k, k * Q0, yerr = k * sigmaQ, ls='',marker='o',c='black', label = r'$Q_0$')\n",
    "plt.plot(k, k * THI_fid**2 * bHI_fid**2 * Dgz(zc)**2 * Pk_bacco(k),ls='-',c='blue')\n",
    "plt.plot(k, k * THI_fid**2 * bHI_fid**2 * Dgz(zc)**2 * plin_interp(k)*NL_boost_fun(k),ls='--',c='magenta')\n",
    "\n",
    "#factor = ((om0 + (1+zc)**(-3) * (1-om0))/0.37)**(-0.5) * ((1+zc)/1.8)**0.5\n",
    "#OmHI_fid = 0.43\n",
    "#THI_fid = 0.29 * factor * OmHI_fid/2.2 #mK\n",
    "\n",
    "plt.xlim(-0.001,0.41)\n",
    "#plt.ylim(-0.5,6)\n",
    "\n",
    "plt.legend()\n",
    "\n",
    "plt.show()"
   ]
  },
  {
   "cell_type": "code",
   "execution_count": null,
   "metadata": {},
   "outputs": [],
   "source": []
  },
  {
   "cell_type": "code",
   "execution_count": null,
   "metadata": {},
   "outputs": [],
   "source": []
  },
  {
   "cell_type": "code",
   "execution_count": null,
   "metadata": {},
   "outputs": [],
   "source": []
  },
  {
   "cell_type": "code",
   "execution_count": null,
   "metadata": {},
   "outputs": [],
   "source": []
  },
  {
   "cell_type": "code",
   "execution_count": null,
   "metadata": {},
   "outputs": [],
   "source": []
  },
  {
   "cell_type": "code",
   "execution_count": null,
   "metadata": {},
   "outputs": [],
   "source": []
  },
  {
   "cell_type": "code",
   "execution_count": null,
   "metadata": {},
   "outputs": [],
   "source": []
  },
  {
   "cell_type": "code",
   "execution_count": null,
   "metadata": {},
   "outputs": [],
   "source": []
  },
  {
   "cell_type": "code",
   "execution_count": null,
   "metadata": {},
   "outputs": [],
   "source": []
  },
  {
   "cell_type": "code",
   "execution_count": null,
   "metadata": {},
   "outputs": [],
   "source": []
  },
  {
   "cell_type": "code",
   "execution_count": null,
   "metadata": {},
   "outputs": [],
   "source": []
  },
  {
   "cell_type": "code",
   "execution_count": null,
   "metadata": {},
   "outputs": [],
   "source": []
  }
 ],
 "metadata": {
  "kernelspec": {
   "display_name": "Python 3 (ipykernel)",
   "language": "python",
   "name": "python3"
  },
  "language_info": {
   "codemirror_mode": {
    "name": "ipython",
    "version": 3
   },
   "file_extension": ".py",
   "mimetype": "text/x-python",
   "name": "python",
   "nbconvert_exporter": "python",
   "pygments_lexer": "ipython3",
   "version": "3.9.12"
  }
 },
 "nbformat": 4,
 "nbformat_minor": 4
}
